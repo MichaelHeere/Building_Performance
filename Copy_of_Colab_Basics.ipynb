{
  "nbformat": 4,
  "nbformat_minor": 0,
  "metadata": {
    "colab": {
      "name": "Copy of Colab Basics.ipynb",
      "provenance": [],
      "collapsed_sections": [],
      "toc_visible": true
    },
    "kernelspec": {
      "name": "python3",
      "display_name": "Python 3"
    }
  },
  "cells": [
    {
      "cell_type": "markdown",
      "metadata": {
        "id": "g99eDxPn2Xuc"
      },
      "source": [
        "# What is a Jupyter Notebook and how to use it?\n",
        "\n",
        "_*This introduction notebook was created taking Jupyter Notebook's and Colab's documentation as a starting point. For more information, please visit: [Jupyter](https://jupyter.org/) and [Colab](https://colab.research.google.com/notebooks/intro.ipynb#scrollTo=-Rh3-Vt9Nev9)._\n",
        "\n",
        "### Introduction\n",
        "\n",
        "The Jupyter Notebook is an interactive computing environment that enables users to author notebook documents that include:\n",
        "\n",
        "- Live code\n",
        "- Interactive widgets\n",
        "- Plots\n",
        "- Narrative text\n",
        "- Equations\n",
        "- Images\n",
        "- Video\n",
        "\n",
        "### Components \n",
        "\n",
        "The Jupyter Notebook combines three components:\n",
        "\n",
        "- **The notebook web application**: An interactive web application for writing and running code interactively and authoring notebook documents.\n",
        "\n",
        "- **Kernels**: Separate processes started by the notebook web application that runs users' code in a given language and returns output back to the notebook web application. The kernel also handles things like computations for interactive widgets, tab completion and introspection.\n",
        "\n",
        "- **Notebook documents**: Self-contained documents that contain a representation of all content visible in the notebook web application, including inputs and outputs of the computations, narrative text, equations, images, and rich media representations of objects. Each notebook document has its own kernel."
      ]
    },
    {
      "cell_type": "markdown",
      "metadata": {
        "id": "u0MNp52B4Iur"
      },
      "source": [
        "### Web Application (Google Colab)\n",
        "\n",
        "The advantage of using a web application is that no software installation is needed to interact with and execute the notebooks. More specifically, Google Colababoratory or \"Colab\" allows you to write and execute code in the browser, see results of computation in different media representations and author narrative text using \"Markdown\" language. The advantage of Colab over the default Jupyter Notebook Web Application is the ability to benefit from all the Jupyter Notebook's features with zero configuration required.\n",
        "\n",
        "### Kernels\n",
        "\n",
        "Through Jupyter's kernel and messaging architecture, the Notebook allows code to be run in a range of different programming languages. For each notebook document that a user opens, the web application starts a kernel that runs the code for that notebook. The deafault kernel runs Python code. Check [this notebook](https://nbviewer.jupyter.org/github/jrjohansson/scientific-python-lectures/blob/master/Lecture-1-Introduction-to-Python-Programming.ipynb) for an introduction in Python programming.\n",
        "\n",
        "### Notebook documents\n",
        "\n",
        "Notebook documents contain the inputs and outputs of an interactive session as well as narrative text that accompanies the code but is not meant for execution. Notebook documents are just files on your local drive with a \".ipynb\" extention."
      ]
    },
    {
      "cell_type": "markdown",
      "metadata": {
        "id": "KQ-hOwJes87F"
      },
      "source": [
        "## Colab Basics\n",
        "### Saving your own copy\n",
        "\n",
        "To be able to edit and save your progress you have to create your own copy of the notebook on your google drive. To do that, click on the \"File\" drop-down menu and select \"Save a copy in Drive\".\n",
        "\n",
        "![alt-tekst](https://drive.google.com/uc?export=view&id=1r2fu8Ja3l1ME34nAKmmsmqeR_SddllOf)\n",
        "\n",
        "Once you have done that you can edit and save your progress by clicking on \"Save\" or by using the keyboard shortcut \"Ctrl+S\".\n",
        "\n",
        "\n"
      ]
    },
    {
      "cell_type": "markdown",
      "metadata": {
        "id": "GJBs_flRovLc"
      },
      "source": [
        "## Getting started\n",
        "\n",
        "The document you are reading is not a static web page, but an interactive environment called a **Colab notebook** that lets you write and execute code.\n",
        "\n",
        "For example, here is a **code cell** with a short Python script that computes a value, stores it in a variable, and prints the result:"
      ]
    },
    {
      "cell_type": "code",
      "metadata": {
        "id": "gJr_9dXGpJ05",
        "colab": {
          "base_uri": "https://localhost:8080/"
        },
        "outputId": "66dd6e8a-23ef-48f0-938f-6001ed4e5673"
      },
      "source": [
        "# This is a comment\n",
        "\n",
        "# Declare a variable\n",
        "seconds_in_a_day = 24 * 60 * 60\n",
        "\n",
        "# Print a number\n",
        "print(seconds_in_a_day)"
      ],
      "execution_count": 1,
      "outputs": [
        {
          "output_type": "stream",
          "name": "stdout",
          "text": [
            "86400\n"
          ]
        }
      ]
    },
    {
      "cell_type": "markdown",
      "metadata": {
        "id": "2fhs6GZ4qFMx"
      },
      "source": [
        "To execute the code in the above cell, select it with a click and then either press the play button to the left of the code, or use the keyboard shortcut \"Command/Ctrl+Enter\". To edit the code, just click the cell and start editing.\n",
        "\n",
        "Variables that you define in one cell can later be used in other cells:"
      ]
    },
    {
      "cell_type": "code",
      "metadata": {
        "id": "-gE-Ez1qtyIA"
      },
      "source": [
        "seconds_in_a_week = 7 * seconds_in_a_day\n",
        "seconds_in_a_week"
      ],
      "execution_count": null,
      "outputs": []
    },
    {
      "cell_type": "markdown",
      "metadata": {
        "id": "D_An6jF1Fwg4"
      },
      "source": [
        "Now it is time to try it for yourself. Modify the code in the cell below to calculate the number of seconds in a year and print that number."
      ]
    },
    {
      "cell_type": "code",
      "metadata": {
        "id": "ZliIUM0lBZ-T"
      },
      "source": [
        "# define below a variable named \"seconds_in_a_year\" using the \"seconds_in_a_day\" variable\n",
        "# and print it\n",
        "\n",
        "seconds_in_a_year"
      ],
      "execution_count": null,
      "outputs": []
    },
    {
      "cell_type": "markdown",
      "metadata": {
        "id": "lSrWNr3MuFUS"
      },
      "source": [
        "Colab notebooks allow you to combine **executable code** and **rich text** in a single document, along with **images**, **HTML**, **LaTeX** and more. When you create your own Colab notebooks, they are stored in your Google Drive account. You can easily share your Colab notebooks with co-workers or friends, allowing them to comment on your notebooks or even edit them. To learn more, see [Overview of Colab](/notebooks/basic_features_overview.ipynb). To create a new Colab notebook you can use the File menu above, or use the following link: [create a new Colab notebook](http://colab.research.google.com#create=true).\n",
        "\n",
        "Colab notebooks are Jupyter notebooks that are hosted by Colab. To learn more about the Jupyter project, see [jupyter.org](https://www.jupyter.org)."
      ]
    },
    {
      "cell_type": "markdown",
      "metadata": {
        "id": "ajBRbCKWBWzP"
      },
      "source": [
        "## Interactive functions\n",
        "\n",
        "There are multiple libraries available for the Noteooks that allow you to create **interactive** functions. One of them is _ipywidgets_ and at the most basic level it can generate a User Interface widget that allows the user to control the inputs of a function. \n",
        "\n",
        "Run the cell below and see how you can easily compute the squares of the integers in the range 1 - 10 by moving the slider."
      ]
    },
    {
      "cell_type": "code",
      "metadata": {
        "id": "V436_Q0QBXRE"
      },
      "source": [
        "from ipywidgets import interact\n",
        "\n",
        "# rename the function and modify it so it returns the cube of a number \"x\"\n",
        "def square(x):\n",
        "  print(x*x)\n",
        "\n",
        "interact(square, x = (0, 10, 1))"
      ],
      "execution_count": null,
      "outputs": []
    },
    {
      "cell_type": "markdown",
      "metadata": {
        "id": "iJTx_VKI-8nZ"
      },
      "source": [
        "Now modify the function above so that it calculates the cube."
      ]
    },
    {
      "cell_type": "markdown",
      "metadata": {
        "id": "UdRyKR44dcNI"
      },
      "source": [
        "## Data science\n",
        "\n",
        "With Colab you can harness the full power of popular Python libraries to analyze and visualize data. The code cell below uses **numpy** to generate some random data, and uses **matplotlib** to visualize it. To edit the code, just click the cell and start editing."
      ]
    },
    {
      "cell_type": "code",
      "metadata": {
        "id": "C4HZx7Gndbrh"
      },
      "source": [
        "# Import the necessary libraries\n",
        "import numpy as np\n",
        "from matplotlib import pyplot as plt\n",
        "\n",
        "# Generates 100 random numbers around 200\n",
        "ys = 200 + np.random.randn(100)\n",
        "# Generates the an array containing integers from 0 till lenght of the ys array\n",
        "x = [x for x in range(len(ys))]\n",
        "\n",
        "# Plot using plt.plot function from the matplotlib library\n",
        "plt.plot(x, ys, '-')\n",
        "plt.fill_between(x, ys, 195, where=(ys > 195), facecolor='g', alpha=0.6)\n",
        "\n",
        "# Define plot title\n",
        "plt.title(\"Sample Visualization\")\n",
        "plt.show()"
      ],
      "execution_count": null,
      "outputs": []
    },
    {
      "cell_type": "markdown",
      "metadata": {
        "id": "xP4I6jRzWA93"
      },
      "source": [
        "One of the most used ways to store and work with data structures is by using **Pandas DataFrames**. Putting the _ys_ and _x_ into a dataframe allows easier data manipulation."
      ]
    },
    {
      "cell_type": "code",
      "metadata": {
        "id": "znjBFxcXWfhz"
      },
      "source": [
        "import pandas as pd\n",
        "\n",
        "# putting the ys and x into a dataframe\n",
        "dataframe = pd.DataFrame(np.transpose([ys,x]), columns = ['ys', 'x'])\n",
        "\n",
        "# setting x column as the index\n",
        "dataframe = dataframe.set_index('x')\n",
        "\n",
        "dataframe"
      ],
      "execution_count": null,
      "outputs": []
    },
    {
      "cell_type": "code",
      "metadata": {
        "id": "DBu3GOHbYFDQ"
      },
      "source": [
        "dataframe.plot()"
      ],
      "execution_count": null,
      "outputs": []
    },
    {
      "cell_type": "markdown",
      "metadata": {
        "id": "4_kCnsPUqS6o"
      },
      "source": [
        "You can import your own data into Colab notebooks from your Google Drive account, including from spreadsheets, as well as from Github and many other sources. To learn more about importing data, and how Colab can be used for data science, see the links below:\n",
        "\n",
        "[Importing data in Colab](https://colab.research.google.com/notebooks/io.ipynb)\n",
        "\n",
        "[Data analysis with Pandas](https://pandas.pydata.org/docs/getting_started/overview.html)\n",
        "\n",
        "[Data visualization with Matplotlib](https://matplotlib.org/)"
      ]
    },
    {
      "cell_type": "markdown",
      "metadata": {
        "id": "MGjwuioe_Vds"
      },
      "source": [
        "## Exercise\n",
        "\n",
        "Now let's do some data analysis ourselves using the basic functionalities of Python and Jupyter Notebooks. In 2013 [Crunchbase](https://data.crunchbase.com/docs/open-data-map) provided a snapshot of all the start-ups in USA that got funding in that particular year. Run the cell below to upload the \".CSV\" file that contains the data."
      ]
    },
    {
      "cell_type": "code",
      "metadata": {
        "id": "NxUgG_-bAMCP"
      },
      "source": [
        "from google.colab import files\n",
        "uploaded = files.upload()\n",
        "filename = list(uploaded.keys())[0]"
      ],
      "execution_count": null,
      "outputs": []
    },
    {
      "cell_type": "markdown",
      "metadata": {
        "id": "AJ4n3jxkATee"
      },
      "source": [
        "Pandas library provides several functions which allow data to be read from files with different extensions. In this case we are going to use \"pd.read_csv\"."
      ]
    },
    {
      "cell_type": "code",
      "metadata": {
        "id": "Q2CFRK7ZAyNF"
      },
      "source": [
        "data = pd.read_csv(filename)\n",
        "data"
      ],
      "execution_count": null,
      "outputs": []
    },
    {
      "cell_type": "markdown",
      "metadata": {
        "id": "jV3QzMCFN6Xn"
      },
      "source": [
        "Let's find out in which category the companies that managed to to get the most funding were active.\n",
        "\n",
        "To do that we need to perform several steps:\n",
        "- set the category code as the table index\n",
        "- group the data by category and return the fundings as the sum of the fundings got by each company which is part of the category\n",
        "- sort the values to have a more clear representation"
      ]
    },
    {
      "cell_type": "code",
      "metadata": {
        "id": "DjsCoaVTCaH4"
      },
      "source": [
        "data_grouped = data.set_index('category_code').groupby(level = 'category_code').sum().sort_values(by = ['funding_total_usd'])\n",
        "data_grouped.plot(kind = 'bar', figsize = (20, 8), grid = True)"
      ],
      "execution_count": null,
      "outputs": []
    },
    {
      "cell_type": "markdown",
      "metadata": {
        "id": "-ZJbvarBP2Mj"
      },
      "source": [
        "Quite interesting, isn't it? Some of these companies however, are already closed. Let's see out of closed companies, which category received the most funding."
      ]
    },
    {
      "cell_type": "code",
      "metadata": {
        "id": "VimXn5cLTFxP"
      },
      "source": [
        "# keeping only the closed companies\n",
        "data_closed = data[data['status'] == 'closed']\n",
        "data_closed"
      ],
      "execution_count": null,
      "outputs": []
    },
    {
      "cell_type": "markdown",
      "metadata": {
        "id": "i1BfArYEUiQK"
      },
      "source": [
        "Calculate and plot it yourself. Write your code in the cell below."
      ]
    },
    {
      "cell_type": "code",
      "metadata": {
        "id": "wuk6jBfYQeus"
      },
      "source": [
        "# think about the steps you need to take to tranform the data\n",
        "data_closed_grouped = # data_closed.set_index('category_code').groupby(level = 'category_code').mean().sort_values(by = ['funding_total_usd'])\n",
        "data_closed_grouped.plot(kind = 'bar', figsize = (20, 8), grid = True)"
      ],
      "execution_count": null,
      "outputs": []
    },
    {
      "cell_type": "markdown",
      "metadata": {
        "id": "wUuJoufGRZqN"
      },
      "source": [
        "By running the cell below we are going to introduce another column in the dataset that contains the first letter of each company's name. "
      ]
    },
    {
      "cell_type": "code",
      "metadata": {
        "id": "mLEJ4QM2RZd1"
      },
      "source": [
        "data['first_letter'] = data['name'].apply(lambda x: x[0])\n",
        "data"
      ],
      "execution_count": null,
      "outputs": []
    },
    {
      "cell_type": "markdown",
      "metadata": {
        "id": "xUlxqZ0zTqVn"
      },
      "source": [
        "## Question 1\n",
        "\n",
        "Filter the list so it contains companies whose names start with the same letter as your last name. \n",
        "\n",
        "Out of your list, which three categories received the most funding?\n",
        "What about the most average funding per company? (Hint: use \"mean()\")"
      ]
    },
    {
      "cell_type": "code",
      "metadata": {
        "id": "DXjVlSXlUxUW"
      },
      "source": [
        "# total fundings per category\n",
        "data_total = \n"
      ],
      "execution_count": null,
      "outputs": []
    },
    {
      "cell_type": "code",
      "metadata": {
        "id": "vBMVWPpWVY3N"
      },
      "source": [
        "# average fundings per category\n",
        "data_average = "
      ],
      "execution_count": null,
      "outputs": []
    },
    {
      "cell_type": "markdown",
      "metadata": {
        "id": "so4wh62IyUrc"
      },
      "source": [
        "## Downloading on local drive\n",
        "\n",
        "To save the notebook on your local PC and to be able to open with other Jupyter Notebook applications you have to click on the \"File\" drop-down menu and select \"Download .ipynb\". \n",
        "\n",
        "![alt-tekst](https://drive.google.com/uc?export=view&id=1rXpG6hsG4I_j7NTiLAHyWEreakIxIIv3)\n"
      ]
    }
  ]
}